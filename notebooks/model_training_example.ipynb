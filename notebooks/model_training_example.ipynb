{
 "cells": [
  {
   "cell_type": "markdown",
   "metadata": {},
   "source": [
    "# 技能路径匹配模型训练示例\n",
    "\n",
    "本笔记本展示了如何使用技能路径匹配框架训练模型。"
   ]
  },
  {
   "cell_type": "code",
   "execution_count": null,
   "metadata": {},
   "outputs": [],
   "source": [
    "# 导入必要的库\n",
    "import os\n",
    "import sys\n",
    "import numpy as np\n",
    "import pandas as pd\n",
    "import torch\n",
    "import torch.nn as nn\n",
    "import torch.optim as optim\n",
    "from torch.utils.data import DataLoader\n",
    "import matplotlib.pyplot as plt\n",
    "import seaborn as sns\n",
    "\n",
    "# 添加项目根目录到路径\n",
    "sys.path.append('..')\n",
    "\n",
    "# 导入自定义模块\n",
    "from src.models.matching_model import DeepMatchingModel, DualEncoderMatchingModel, SkillPathAwareMatchingModel\n",
    "from src.utils.data_utils import load_data, extract_text_features, combine_features, SkillMatchingDataset, create_data_loaders\n",
    "from src.training.trainer import Trainer\n",
    "from src.evaluation.metrics import calculate_classification_metrics, calculate_ranking_metrics\n",
    "from src.utils.visualization import plot_learning_curves, plot_confusion_matrix, plot_roc_curve, plot_precision_recall_curve"
   ]
  },
  {
   "cell_type": "markdown",
   "metadata": {},
   "source": [
    "## 1. 数据准备\n",
    "\n",
    "首先，我们需要准备训练数据。在这个示例中，我们将使用模拟数据。"
   ]
  },
  {
   "cell_type": "code",
   "execution_count": null,
   "metadata": {},
   "outputs": [],
   "source": [
    "# 创建模拟数据\n",
    "def create_synthetic_data(n_samples=1000, resume_dim=100, job_dim=80, skill_graph_dim=50):\n",
    "    # 创建随机特征\n",
    "    resume_features = np.random.randn(n_samples, resume_dim)\n",
    "    job_features = np.random.randn(n_samples, job_dim)\n",
    "    skill_graph_features = np.random.randn(n_samples, skill_graph_dim)\n",
    "    \n",
    "    # 创建随机标签（0或1）\n",
    "    labels = np.random.randint(0, 2, size=(n_samples, 1)).astype(np.float32)\n",
    "    \n",
    "    return resume_features, job_features, skill_graph_features, labels\n",
    "\n",
    "# 生成模拟数据\n",
    "resume_features, job_features, skill_graph_features, labels = create_synthetic_data()\n",
    "\n",
    "# 查看数据形状\n",
    "print(f\"简历特征形状: {resume_features.shape}\")\n",
    "print(f\"职位特征形状: {job_features.shape}\")\n",
    "print(f\"技能图特征形状: {skill_graph_features.shape}\")\n",
    "print(f\"标签形状: {labels.shape}\")"
   ]
  },
  {
   "cell_type": "markdown",
   "metadata": {},
   "source": [
    "## 2. 创建数据集和数据加载器"
   ]
  },
  {
   "cell_type": "code",
   "execution_count": null,
   "metadata": {},
   "outputs": [],
   "source": [
    "# 创建数据集\n",
    "dataset = SkillMatchingDataset(\n",
    "    resume_features=resume_features,\n",
    "    job_features=job_features,\n",
    "    skill_graph_features=skill_graph_features,\n",
    "    labels=labels\n",
    ")\n",
    "\n",
    "# 创建数据加载器\n",
    "train_loader, val_loader, test_loader = create_data_loaders(\n",
    "    dataset=dataset,\n",
    "    batch_size=32,\n",
    "    train_ratio=0.7,\n",
    "    val_ratio=0.15,\n",
    "    random_seed=42\n",
    ")\n",
    "\n",
    "print(f\"训练集大小: {len(train_loader.dataset)}\")\n",
    "print(f\"验证集大小: {len(val_loader.dataset)}\")\n",
    "print(f\"测试集大小: {len(test_loader.dataset)}\")"
   ]
  },
  {
   "cell_type": "markdown",
   "metadata": {},
   "source": [
    "## 3. 定义模型"
   ]
  },
  {
   "cell_type": "code",
   "execution_count": null,
   "metadata": {},
   "outputs": [],
   "source": [
    "# 设置设备\n",
    "device = torch.device('cuda' if torch.cuda.is_available() else 'cpu')\n",
    "print(f\"使用设备: {device}\")\n",
    "\n",
    "# 定义模型参数\n",
    "resume_dim = resume_features.shape[1]\n",
    "job_dim = job_features.shape[1]\n",
    "skill_graph_dim = skill_graph_features.shape[1]\n",
    "\n",
    "# 创建模型\n",
    "model = SkillPathAwareMatchingModel(\n",
    "    resume_dim=resume_dim,\n",
    "    job_dim=job_dim,\n",
    "    skill_graph_dim=skill_graph_dim,\n",
    "    hidden_dim=128,\n",
    "    output_dim=64\n",
    ")\n",
    "\n",
    "# 打印模型结构\n",
    "print(model)"
   ]
  },
  {
   "cell_type": "markdown",
   "metadata": {},
   "source": [
    "## 4. 定义损失函数和优化器"
   ]
  },
  {
   "cell_type": "code",
   "execution_count": null,
   "metadata": {},
   "outputs": [],
   "source": [
    "# 定义损失函数\n",
    "criterion = nn.BCELoss()\n",
    "\n",
    "# 定义优化器\n",
    "optimizer = optim.Adam(model.parameters(), lr=0.001)\n",
    "\n",
    "# 定义学习率调度器\n",
    "scheduler = optim.lr_scheduler.ReduceLROnPlateau(\n",
    "    optimizer, mode='min', factor=0.5, patience=5, verbose=True\n",
    ")"
   ]
  },
  {
   "cell_type": "markdown",
   "metadata": {},
   "source": [
    "## 5. 定义评估指标"
   ]
  },
  {
   "cell_type": "code",
   "execution_count": null,
   "metadata": {},
   "outputs": [],
   "source": [
    "# 定义评估指标函数\n",
    "def calculate_metrics(y_true, y_pred):\n",
    "    # 分类指标\n",
    "    classification_metrics = calculate_classification_metrics(y_true, y_pred)\n",
    "    \n",
    "    # 排序指标\n",
    "    ranking_metrics = calculate_ranking_metrics(y_true, y_pred)\n",
    "    \n",
    "    # 合并指标\n",
    "    metrics = {}\n",
    "    metrics.update(classification_metrics)\n",
    "    metrics.update(ranking_metrics)\n",
    "    \n",
    "    return metrics\n",
    "\n",
    "# 创建指标函数字典\n",
    "metric_functions = {\n",
    "    'accuracy': lambda y_true, y_pred: calculate_classification_metrics(y_true, y_pred)['accuracy'],\n",
    "    'precision': lambda y_true, y_pred: calculate_classification_metrics(y_true, y_pred)['precision'],\n",
    "    'recall': lambda y_true, y_pred: calculate_classification_metrics(y_true, y_pred)['recall'],\n",
    "    'f1': lambda y_true, y_pred: calculate_classification_metrics(y_true, y_pred)['f1'],\n",
    "    'auc': lambda y_true, y_pred: calculate_classification_metrics(y_true, y_pred)['auc']\n",
    "}"
   ]
  },
  {
   "cell_type": "markdown",
   "metadata": {},
   "source": [
    "## 6. 训练模型"
   ]
  },
  {
   "cell_type": "code",
   "execution_count": null,
   "metadata": {},
   "outputs": [],
   "source": [
    "# 创建训练器\n",
    "trainer = Trainer(\n",
    "    model=model,\n",
    "    criterion=criterion,\n",
    "    optimizer=optimizer,\n",
    "    device=device,\n",
    "    scheduler=scheduler,\n",
    "    early_stopping_patience=10,\n",
    "    model_save_path='../models/skill_path_model.pt'\n",
    ")\n",
    "\n",
    "# 训练模型\n",
    "history = trainer.train(\n",
    "    train_loader=train_loader,\n",
    "    val_loader=val_loader,\n",
    "    num_epochs=30,\n",
    "    metric_functions=metric_functions,\n",
    "    verbose=True,\n",
    "    log_interval=1\n",
    ")"
   ]
  },
  {
   "cell_type": "markdown",
   "metadata": {},
   "source": [
    "## 7. 可视化训练过程"
   ]
  },
  {
   "cell_type": "code",
   "execution_count": null,
   "metadata": {},
   "outputs": [],
   "source": [
    "# 准备绘图数据\n",
    "train_metrics = {\n",
    "    'loss': history['train_loss'],\n",
    "    'accuracy': history['train_accuracy'],\n",
    "    'precision': history['train_precision'],\n",
    "    'recall': history['train_recall'],\n",
    "    'f1': history['train_f1'],\n",
    "    'auc': history['train_auc']\n",
    "}\n",
    "\n",
    "val_metrics = {\n",
    "    'loss': history['val_loss'],\n",
    "    'accuracy': history['val_accuracy'],\n",
    "    'precision': history['val_precision'],\n",
    "    'recall': history['val_recall'],\n",
    "    'f1': history['val_f1'],\n",
    "    'auc': history['val_auc']\n",
    "}\n",
    "\n",
    "# 绘制学习曲线\n",
    "plot_learning_curves(\n",
    "    train_metrics=train_metrics,\n",
    "    val_metrics=val_metrics,\n",
    "    figsize=(15, 10),\n",
    "    title='模型训练学习曲线'\n",
    ")"
   ]
  },
  {
   "cell_type": "markdown",
   "metadata": {},
   "source": [
    "## 8. 在测试集上评估模型"
   ]
  },
  {
   "cell_type": "code",
   "execution_count": null,
   "metadata": {},
   "outputs": [],
   "source": [
    "# 在测试集上评估模型\n",
    "test_metrics = trainer.test(test_loader, metric_functions)\n",
    "\n",
    "# 打印测试结果\n",
    "print(\"测试集评估结果:\")\n",
    "for metric, value in test_metrics.items():\n",
    "    print(f\"{metric}: {value:.6f}\")"
   ]
  },
  {
   "cell_type": "markdown",
   "metadata": {},
   "source": [
    "## 9. 可视化预测结果"
   ]
  },
  {
   "cell_type": "code",
   "execution_count": null,
   "metadata": {},
   "outputs": [],
   "source": [
    "# 在测试集上进行预测\n",
    "predictions = trainer.predict(test_loader)\n",
    "\n",
    "# 获取真实标签\n",
    "all_targets = []\n",
    "for batch in test_loader:\n",
    "    all_targets.append(batch['label'].numpy())\n",
    "targets = np.concatenate(all_targets)\n",
    "\n",
    "# 绘制混淆矩阵\n",
    "plot_confusion_matrix(\n",
    "    y_true=targets,\n",
    "    y_pred=predictions,\n",
    "    threshold=0.5,\n",
    "    figsize=(8, 6),\n",
    "    title='混淆矩阵'\n",
    ")\n",
    "\n",
    "# 绘制ROC曲线\n",
    "plot_roc_curve(\n",
    "    y_true=targets,\n",
    "    y_pred=predictions,\n",
    "    figsize=(8, 6),\n",
    "    title='ROC曲线'\n",
    ")\n",
    "\n",
    "# 绘制精确率-召回率曲线\n",
    "plot_precision_recall_curve(\n",
    "    y_true=targets,\n",
    "    y_pred=predictions,\n",
    "    figsize=(8, 6),\n",
    "    title='精确率-召回率曲线'\n",
    ")"
   ]
  },
  {
   "cell_type": "markdown",
   "metadata": {},
   "source": [
    "## 10. 模型应用示例"
   ]
  },
  {
   "cell_type": "code",
   "execution_count": null,
   "metadata": {},
   "outputs": [],
   "source": [
    "# 创建一些测试样本\n",
    "test_resume_features = np.random.randn(5, resume_dim)\n",
    "test_job_features = np.random.randn(5, job_dim)\n",
    "test_skill_graph_features = np.random.randn(5, skill_graph_dim)\n",
    "\n",
    "# 转换为PyTorch张量\n",
    "test_resume_tensor = torch.FloatTensor(test_resume_features).to(device)\n",
    "test_job_tensor = torch.FloatTensor(test_job_features).to(device)\n",
    "test_skill_graph_tensor = torch.FloatTensor(test_skill_graph_features).to(device)\n",
    "\n",
    "# 使用模型进行预测\n",
    "model.eval()\n",
    "with torch.no_grad():\n",
    "    match_scores = model(test_resume_tensor, test_job_tensor, test_skill_graph_tensor)\n",
    "\n",
    "# 打印匹配分数\n",
    "print(\"匹配分数:\")\n",
    "for i, score in enumerate(match_scores.cpu().numpy()):\n",
    "    print(f\"样本 {i+1}: {score[0]:.6f}\")"
   ]
  },
  {
   "cell_type": "markdown",
   "metadata": {},
   "source": [
    "## 11. 总结\n",
    "\n",
    "在这个笔记本中，我们演示了如何使用技能路径匹配框架训练模型。我们使用了模拟数据来训练一个技能路径感知的匹配模型，并在测试集上评估了模型的性能。\n",
    "\n",
    "主要步骤包括：\n",
    "1. 准备数据\n",
    "2. 创建数据集和数据加载器\n",
    "3. 定义模型\n",
    "4. 定义损失函数和优化器\n",
    "5. 定义评估指标\n",
    "6. 训练模型\n",
    "7. 可视化训练过程\n",
    "8. 在测试集上评估模型\n",
    "9. 可视化预测结果\n",
    "10. 模型应用示例\n",
    "\n",
    "这个框架可以扩展到真实数据上，只需要替换模拟数据的部分，使用实际的简历、职位和技能图数据即可。"
   ]
  }
 ],
 "metadata": {
  "kernelspec": {
   "display_name": "Python 3",
   "language": "python",
   "name": "python3"
  },
  "language_info": {
   "codemirror_mode": {
    "name": "ipython",
    "version": 3
   },
   "file_extension": ".py",
   "mimetype": "text/x-python",
   "name": "python",
   "nbconvert_exporter": "python",
   "pygments_lexer": "ipython3",
   "version": "3.8.10"
  }
 },
 "nbformat": 4,
 "nbformat_minor": 4
}
